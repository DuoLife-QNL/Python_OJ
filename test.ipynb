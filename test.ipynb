{
 "cells": [
  {
   "cell_type": "code",
   "execution_count": 1,
   "metadata": {},
   "outputs": [],
   "source": [
    "a = 1"
   ]
  },
  {
   "cell_type": "code",
   "execution_count": 3,
   "metadata": {},
   "outputs": [
    {
     "data": {
      "text/plain": [
       "3"
      ]
     },
     "execution_count": 3,
     "metadata": {},
     "output_type": "execute_result"
    }
   ],
   "source": [
    "a == 0 or 3"
   ]
  },
  {
   "cell_type": "code",
   "execution_count": 5,
   "metadata": {},
   "outputs": [
    {
     "name": "stdout",
     "output_type": "stream",
     "text": [
      "3\n",
      "mmm www\n",
      "m w\n",
      "mm ww\n"
     ]
    }
   ],
   "source": [
    "word_num = int(input())\n",
    "dict = {}\n",
    "\n",
    "x = 1\n",
    "while x <= word_num:\n",
    "    cat_word, dog_word = map(str, input().split())\n",
    "    dict[dog_word] = cat_word\n",
    "    x += 1"
   ]
  },
  {
   "cell_type": "code",
   "execution_count": 6,
   "metadata": {},
   "outputs": [
    {
     "data": {
      "text/plain": [
       "{'www': 'mmm', 'w': 'm', 'ww': 'mm'}"
      ]
     },
     "execution_count": 6,
     "metadata": {},
     "output_type": "execute_result"
    }
   ],
   "source": [
    "dict"
   ]
  },
  {
   "cell_type": "code",
   "execution_count": null,
   "metadata": {},
   "outputs": [
    {
     "name": "stdout",
     "output_type": "stream",
     "text": [
      "ww\n",
      "mm\n",
      "mm\n",
      "dog\n",
      "wwww\n",
      "dog\n",
      "w\n",
      "m\n"
     ]
    }
   ],
   "source": [
    "word = input()\n",
    "\n",
    "while True:\n",
    "    if word == \"dog\":\n",
    "        break\n",
    "    else:\n",
    "        if word in dict.keys():\n",
    "            print(dict[word])\n",
    "        else:\n",
    "            print(\"dog\")\n",
    "        word = input()"
   ]
  },
  {
   "cell_type": "code",
   "execution_count": null,
   "metadata": {},
   "outputs": [],
   "source": []
  }
 ],
 "metadata": {
  "kernelspec": {
   "display_name": "Python 3",
   "language": "python",
   "name": "python3"
  },
  "language_info": {
   "codemirror_mode": {
    "name": "ipython",
    "version": 3
   },
   "file_extension": ".py",
   "mimetype": "text/x-python",
   "name": "python",
   "nbconvert_exporter": "python",
   "pygments_lexer": "ipython3",
   "version": "3.7.3"
  }
 },
 "nbformat": 4,
 "nbformat_minor": 2
}
