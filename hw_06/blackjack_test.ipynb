{
 "cells": [
  {
   "cell_type": "code",
   "execution_count": 5,
   "metadata": {},
   "outputs": [
    {
     "data": {
      "text/plain": [
       "range(3, 5)"
      ]
     },
     "execution_count": 5,
     "metadata": {},
     "output_type": "execute_result"
    }
   ],
   "source": [
    "range(3, 5)"
   ]
  },
  {
   "cell_type": "code",
   "execution_count": 7,
   "metadata": {},
   "outputs": [
    {
     "ename": "ValueError",
     "evalue": "invalid literal for int() with base 10: 'A'",
     "output_type": "error",
     "traceback": [
      "\u001b[1;31m---------------------------------------------------------------------------\u001b[0m",
      "\u001b[1;31mValueError\u001b[0m                                Traceback (most recent call last)",
      "\u001b[1;32m<ipython-input-7-58e5992d18f7>\u001b[0m in \u001b[0;36m<module>\u001b[1;34m\u001b[0m\n\u001b[1;32m----> 1\u001b[1;33m \u001b[0mint\u001b[0m\u001b[1;33m(\u001b[0m\u001b[1;34m'A'\u001b[0m\u001b[1;33m)\u001b[0m\u001b[1;33m\u001b[0m\u001b[1;33m\u001b[0m\u001b[0m\n\u001b[0m",
      "\u001b[1;31mValueError\u001b[0m: invalid literal for int() with base 10: 'A'"
     ]
    }
   ],
   "source": [
    "int('A')"
   ]
  },
  {
   "cell_type": "code",
   "execution_count": 8,
   "metadata": {},
   "outputs": [
    {
     "ename": "SyntaxError",
     "evalue": "invalid syntax (<ipython-input-8-8b165905e26d>, line 1)",
     "output_type": "error",
     "traceback": [
      "\u001b[1;36m  File \u001b[1;32m\"<ipython-input-8-8b165905e26d>\"\u001b[1;36m, line \u001b[1;32m1\u001b[0m\n\u001b[1;33m    3 == 3 || 4 || 5\u001b[0m\n\u001b[1;37m            ^\u001b[0m\n\u001b[1;31mSyntaxError\u001b[0m\u001b[1;31m:\u001b[0m invalid syntax\n"
     ]
    }
   ],
   "source": [
    "3 == 3 || 4 || 5"
   ]
  },
  {
   "cell_type": "code",
   "execution_count": 9,
   "metadata": {},
   "outputs": [
    {
     "ename": "SyntaxError",
     "evalue": "invalid syntax (<ipython-input-9-38ba878430d6>, line 1)",
     "output_type": "error",
     "traceback": [
      "\u001b[1;36m  File \u001b[1;32m\"<ipython-input-9-38ba878430d6>\"\u001b[1;36m, line \u001b[1;32m1\u001b[0m\n\u001b[1;33m    3 == 3 || 3 == 4\u001b[0m\n\u001b[1;37m            ^\u001b[0m\n\u001b[1;31mSyntaxError\u001b[0m\u001b[1;31m:\u001b[0m invalid syntax\n"
     ]
    }
   ],
   "source": [
    "3 == 3 || 3 == 4"
   ]
  },
  {
   "cell_type": "code",
   "execution_count": 10,
   "metadata": {},
   "outputs": [
    {
     "data": {
      "text/plain": [
       "True"
      ]
     },
     "execution_count": 10,
     "metadata": {},
     "output_type": "execute_result"
    }
   ],
   "source": [
    "3 == 3"
   ]
  },
  {
   "cell_type": "code",
   "execution_count": 11,
   "metadata": {},
   "outputs": [
    {
     "data": {
      "text/plain": [
       "True"
      ]
     },
     "execution_count": 11,
     "metadata": {},
     "output_type": "execute_result"
    }
   ],
   "source": [
    "3 == 3 or 4 or 5"
   ]
  },
  {
   "cell_type": "code",
   "execution_count": 15,
   "metadata": {},
   "outputs": [
    {
     "data": {
      "text/plain": [
       "True"
      ]
     },
     "execution_count": 15,
     "metadata": {},
     "output_type": "execute_result"
    }
   ],
   "source": [
    "2 == 3 or 2 == 2"
   ]
  },
  {
   "cell_type": "code",
   "execution_count": 12,
   "metadata": {},
   "outputs": [],
   "source": [
    "suit_d = {'Spade': 0, 'Heart': 1, 'Diamond': 2, 'Club': 3}\n",
    "rank_d = {\n",
    "    'A' : 1,\n",
    "    '2' : 2,\n",
    "    '3' : 3,\n",
    "    '4' : 4,\n",
    "    '5' : 5,\n",
    "    '6' : 6,\n",
    "    '7' : 7,\n",
    "    '8' : 8,\n",
    "    '9' : 9,\n",
    "    '10' : 10,\n",
    "    'J' : 11,\n",
    "    'Q' : 12,\n",
    "    'K' : 13\n",
    "}\n",
    "\n",
    "class card(object):\n",
    "    def read(self):\n",
    "        self.suit, self.rank = map(str, input().split())\n",
    "    def display(self):\n",
    "        if self.rank == 'A':\n",
    "            print(\"{} 1 11\".format(self.suit))\n",
    "        else:\n",
    "            if ord(self.rank) in range(ord('2'), ord('9') + 1):      # ord()是将某个字符转换为其ascii码的函数\n",
    "                self.point = int(self.rank)\n",
    "            elif self.rank in ['J', 'Q', 'K', '10']:\n",
    "                self.point = 10\n",
    "            print(\"{} {}\".format(self.suit, self.point))\n",
    "\n",
    "    def get_point(self):    # 处理除了Ace之外的情况\n",
    "        if ord(self.rank) in range(ord('2'), ord('9') + 1):      # ord()是将某个字符转换为其ascii码的函数\n",
    "            return int(self.rank)\n",
    "        elif self.rank in ['J', 'Q', 'K', '10']:\n",
    "            return 10\n",
    "\n",
    "class hand(list):   #继承list类，其中的元素为card类型\n",
    "    # def add_card(self, c: card):\n",
    "    #     self.append(c)\n",
    "    def display(self):      #需要调整输出的格式，在一行内输出\n",
    "        for x in self[:-1]:\n",
    "            print(\"{}{}\".format(x.suit, x.rank), end = ' ')\n",
    "        print(\"{}{}\".format(self[-1].suit, self[-1].rank))\n",
    "    def count_pnt(self):\n",
    "        ttl_pnt = 0\n",
    "        ace_num = 0\n",
    "        for x in self:\n",
    "            if x.rank != 'A':\n",
    "                ttl_pnt += x.get_point()\n",
    "            elif x.rank == 'A':\n",
    "                ace_num += 1\n",
    "                ttl_pnt += 11\n",
    "        while(ace_num > 0):\n",
    "            if (ttl_pnt <= 21):\n",
    "                break\n",
    "            else:\n",
    "                ace_num -= 1\n",
    "                ttl_pnt -= 10\n",
    "        return ttl_pnt\n",
    "    def hand_sort(self):\n",
    "        self.sort(key = lambda x: (rank_d[x.rank], suit_d[x.suit]))       \n",
    "            \n",
    "class player(object):\n",
    "    h = hand()\n",
    "    def hit(self, c):\n",
    "        print('Hit')\n",
    "        c = card()\n",
    "        c.read()\n",
    "        self.h.append(c)\n",
    "        c.display()\n",
    "    def stand(self, c):\n",
    "        print('Stand')\n",
    "        self.h.display()\n"
   ]
  },
  {
   "cell_type": "code",
   "execution_count": 16,
   "metadata": {},
   "outputs": [
    {
     "name": "stdout",
     "output_type": "stream",
     "text": [
      "Spade 4\n",
      "Heart A\n",
      "Heart 3\n"
     ]
    }
   ],
   "source": [
    "c = card()\n",
    "c.read()\n",
    "d = card()\n",
    "d.read()\n",
    "e = card()\n",
    "e.read()\n",
    "a = hand()\n",
    "a.extend([c, d, e])"
   ]
  },
  {
   "cell_type": "code",
   "execution_count": 9,
   "metadata": {},
   "outputs": [
    {
     "data": {
      "text/plain": [
       "18"
      ]
     },
     "execution_count": 9,
     "metadata": {},
     "output_type": "execute_result"
    }
   ],
   "source": [
    "a.count_pnt()"
   ]
  },
  {
   "cell_type": "code",
   "execution_count": 23,
   "metadata": {},
   "outputs": [
    {
     "name": "stdout",
     "output_type": "stream",
     "text": [
      "Object `a.hand_sort()` not found.\n"
     ]
    }
   ],
   "source": [
    "a.hand_sort()"
   ]
  },
  {
   "cell_type": "code",
   "execution_count": 6,
   "metadata": {},
   "outputs": [
    {
     "data": {
      "text/plain": [
       "[<__main__.card at 0x566e890>,\n",
       " <__main__.card at 0x5650470>,\n",
       " <__main__.card at 0x5650450>]"
      ]
     },
     "execution_count": 6,
     "metadata": {},
     "output_type": "execute_result"
    }
   ],
   "source": [
    "a"
   ]
  },
  {
   "cell_type": "code",
   "execution_count": 19,
   "metadata": {},
   "outputs": [
    {
     "name": "stdout",
     "output_type": "stream",
     "text": [
      "Spade4 HeartA Heart3\n"
     ]
    }
   ],
   "source": [
    "a.display()"
   ]
  },
  {
   "cell_type": "code",
   "execution_count": null,
   "metadata": {},
   "outputs": [],
   "source": []
  }
 ],
 "metadata": {
  "kernelspec": {
   "display_name": "Python 3",
   "language": "python",
   "name": "python3"
  },
  "language_info": {
   "codemirror_mode": {
    "name": "ipython",
    "version": 3
   },
   "file_extension": ".py",
   "mimetype": "text/x-python",
   "name": "python",
   "nbconvert_exporter": "python",
   "pygments_lexer": "ipython3",
   "version": "3.7.3"
  }
 },
 "nbformat": 4,
 "nbformat_minor": 2
}
